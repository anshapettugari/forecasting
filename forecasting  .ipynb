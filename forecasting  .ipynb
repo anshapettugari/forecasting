{
 "cells": [
  {
   "cell_type": "code",
   "execution_count": 1,
   "id": "22cd1384",
   "metadata": {
    "ExecuteTime": {
     "end_time": "2021-10-18T07:25:59.907317Z",
     "start_time": "2021-10-18T07:25:58.380229Z"
    }
   },
   "outputs": [],
   "source": [
    "import numpy as np\n",
    "import pandas as pd\n",
    "import matplotlib.pyplot as plt\n",
    "import seaborn as sns  "
   ]
  },
  {
   "cell_type": "code",
   "execution_count": 8,
   "id": "d0bcf6ac",
   "metadata": {
    "ExecuteTime": {
     "end_time": "2021-10-16T13:35:01.831172Z",
     "start_time": "2021-10-16T13:34:42.021039Z"
    }
   },
   "outputs": [
    {
     "name": "stdout",
     "output_type": "stream",
     "text": [
      "Collecting pmdarima\n",
      "  Downloading pmdarima-1.8.3-cp38-cp38-win_amd64.whl (600 kB)\n",
      "Requirement already satisfied: scipy>=1.3.2 in c:\\users\\abhinav\\anaconda3\\lib\\site-packages (from pmdarima) (1.6.2)\n",
      "Requirement already satisfied: joblib>=0.11 in c:\\users\\abhinav\\anaconda3\\lib\\site-packages (from pmdarima) (1.0.1)\n",
      "Requirement already satisfied: Cython!=0.29.18,>=0.29 in c:\\users\\abhinav\\anaconda3\\lib\\site-packages (from pmdarima) (0.29.23)\n",
      "Requirement already satisfied: numpy>=1.19.3 in c:\\users\\abhinav\\anaconda3\\lib\\site-packages (from pmdarima) (1.19.5)\n",
      "Requirement already satisfied: scikit-learn>=0.22 in c:\\users\\abhinav\\anaconda3\\lib\\site-packages (from pmdarima) (0.24.1)\n",
      "Requirement already satisfied: pandas>=0.19 in c:\\users\\abhinav\\anaconda3\\lib\\site-packages (from pmdarima) (1.2.4)\n",
      "Requirement already satisfied: setuptools!=50.0.0,>=38.6.0 in c:\\users\\abhinav\\anaconda3\\lib\\site-packages (from pmdarima) (52.0.0.post20210125)\n",
      "Requirement already satisfied: statsmodels!=0.12.0,>=0.11 in c:\\users\\abhinav\\anaconda3\\lib\\site-packages (from pmdarima) (0.12.2)\n",
      "Requirement already satisfied: urllib3 in c:\\users\\abhinav\\anaconda3\\lib\\site-packages (from pmdarima) (1.26.4)\n",
      "Requirement already satisfied: pytz>=2017.3 in c:\\users\\abhinav\\anaconda3\\lib\\site-packages (from pandas>=0.19->pmdarima) (2021.1)\n",
      "Requirement already satisfied: python-dateutil>=2.7.3 in c:\\users\\abhinav\\anaconda3\\lib\\site-packages (from pandas>=0.19->pmdarima) (2.8.1)\n",
      "Requirement already satisfied: six>=1.5 in c:\\users\\abhinav\\anaconda3\\lib\\site-packages (from python-dateutil>=2.7.3->pandas>=0.19->pmdarima) (1.15.0)\n",
      "Requirement already satisfied: threadpoolctl>=2.0.0 in c:\\users\\abhinav\\anaconda3\\lib\\site-packages (from scikit-learn>=0.22->pmdarima) (2.1.0)\n",
      "Requirement already satisfied: patsy>=0.5 in c:\\users\\abhinav\\anaconda3\\lib\\site-packages (from statsmodels!=0.12.0,>=0.11->pmdarima) (0.5.1)\n",
      "Installing collected packages: pmdarima\n",
      "Successfully installed pmdarima-1.8.3\n"
     ]
    }
   ],
   "source": [
    "!pip install pmdarima"
   ]
  },
  {
   "cell_type": "code",
   "execution_count": 8,
   "id": "355e1016",
   "metadata": {
    "ExecuteTime": {
     "end_time": "2021-10-18T07:40:52.821164Z",
     "start_time": "2021-10-18T07:40:52.765161Z"
    }
   },
   "outputs": [
    {
     "data": {
      "text/html": [
       "<div>\n",
       "<style scoped>\n",
       "    .dataframe tbody tr th:only-of-type {\n",
       "        vertical-align: middle;\n",
       "    }\n",
       "\n",
       "    .dataframe tbody tr th {\n",
       "        vertical-align: top;\n",
       "    }\n",
       "\n",
       "    .dataframe thead th {\n",
       "        text-align: right;\n",
       "    }\n",
       "</style>\n",
       "<table border=\"1\" class=\"dataframe\">\n",
       "  <thead>\n",
       "    <tr style=\"text-align: right;\">\n",
       "      <th></th>\n",
       "      <th>Passengers</th>\n",
       "    </tr>\n",
       "    <tr>\n",
       "      <th>Month</th>\n",
       "      <th></th>\n",
       "    </tr>\n",
       "  </thead>\n",
       "  <tbody>\n",
       "    <tr>\n",
       "      <th>1995-01-01</th>\n",
       "      <td>112</td>\n",
       "    </tr>\n",
       "    <tr>\n",
       "      <th>1995-02-01</th>\n",
       "      <td>118</td>\n",
       "    </tr>\n",
       "    <tr>\n",
       "      <th>1995-03-01</th>\n",
       "      <td>132</td>\n",
       "    </tr>\n",
       "    <tr>\n",
       "      <th>1995-04-01</th>\n",
       "      <td>129</td>\n",
       "    </tr>\n",
       "    <tr>\n",
       "      <th>1995-05-01</th>\n",
       "      <td>121</td>\n",
       "    </tr>\n",
       "    <tr>\n",
       "      <th>...</th>\n",
       "      <td>...</td>\n",
       "    </tr>\n",
       "    <tr>\n",
       "      <th>2002-08-01</th>\n",
       "      <td>405</td>\n",
       "    </tr>\n",
       "    <tr>\n",
       "      <th>2002-09-01</th>\n",
       "      <td>355</td>\n",
       "    </tr>\n",
       "    <tr>\n",
       "      <th>2002-10-01</th>\n",
       "      <td>306</td>\n",
       "    </tr>\n",
       "    <tr>\n",
       "      <th>2002-11-01</th>\n",
       "      <td>271</td>\n",
       "    </tr>\n",
       "    <tr>\n",
       "      <th>2002-12-01</th>\n",
       "      <td>306</td>\n",
       "    </tr>\n",
       "  </tbody>\n",
       "</table>\n",
       "<p>96 rows × 1 columns</p>\n",
       "</div>"
      ],
      "text/plain": [
       "            Passengers\n",
       "Month                 \n",
       "1995-01-01         112\n",
       "1995-02-01         118\n",
       "1995-03-01         132\n",
       "1995-04-01         129\n",
       "1995-05-01         121\n",
       "...                ...\n",
       "2002-08-01         405\n",
       "2002-09-01         355\n",
       "2002-10-01         306\n",
       "2002-11-01         271\n",
       "2002-12-01         306\n",
       "\n",
       "[96 rows x 1 columns]"
      ]
     },
     "execution_count": 8,
     "metadata": {},
     "output_type": "execute_result"
    }
   ],
   "source": [
    "air=pd.read_excel(\"Airlines+Data (1).xlsx\",index_col=\"Month\",parse_dates=True)\n",
    "air"
   ]
  },
  {
   "cell_type": "code",
   "execution_count": 9,
   "id": "16e1be80",
   "metadata": {
    "ExecuteTime": {
     "end_time": "2021-10-18T07:41:12.371283Z",
     "start_time": "2021-10-18T07:40:57.587437Z"
    }
   },
   "outputs": [],
   "source": [
    "from pmdarima import auto_arima\n",
    "import warnings\n",
    "warnings.filterwarnings(\"ignore\")"
   ]
  },
  {
   "cell_type": "code",
   "execution_count": 10,
   "id": "79f23f5c",
   "metadata": {
    "ExecuteTime": {
     "end_time": "2021-10-18T07:41:24.976004Z",
     "start_time": "2021-10-18T07:41:15.825480Z"
    }
   },
   "outputs": [
    {
     "name": "stdout",
     "output_type": "stream",
     "text": [
      "Performing stepwise search to minimize aic\n",
      " ARIMA(2,1,2)(0,0,0)[0] intercept   : AIC=inf, Time=2.54 sec\n",
      " ARIMA(0,1,0)(0,0,0)[0] intercept   : AIC=871.345, Time=0.02 sec\n",
      " ARIMA(1,1,0)(0,0,0)[0] intercept   : AIC=867.283, Time=0.06 sec\n",
      " ARIMA(0,1,1)(0,0,0)[0] intercept   : AIC=863.757, Time=0.09 sec\n",
      " ARIMA(0,1,0)(0,0,0)[0]             : AIC=870.076, Time=0.01 sec\n",
      " ARIMA(1,1,1)(0,0,0)[0] intercept   : AIC=862.193, Time=0.14 sec\n",
      " ARIMA(2,1,1)(0,0,0)[0] intercept   : AIC=inf, Time=0.33 sec\n",
      " ARIMA(1,1,2)(0,0,0)[0] intercept   : AIC=inf, Time=0.33 sec\n",
      " ARIMA(0,1,2)(0,0,0)[0] intercept   : AIC=861.773, Time=0.11 sec\n",
      " ARIMA(0,1,3)(0,0,0)[0] intercept   : AIC=inf, Time=0.35 sec\n",
      " ARIMA(1,1,3)(0,0,0)[0] intercept   : AIC=inf, Time=0.47 sec\n",
      " ARIMA(0,1,2)(0,0,0)[0]             : AIC=860.702, Time=0.06 sec\n",
      " ARIMA(0,1,1)(0,0,0)[0]             : AIC=862.251, Time=0.04 sec\n",
      " ARIMA(1,1,2)(0,0,0)[0]             : AIC=855.919, Time=0.08 sec\n",
      " ARIMA(1,1,1)(0,0,0)[0]             : AIC=860.821, Time=0.08 sec\n",
      " ARIMA(2,1,2)(0,0,0)[0]             : AIC=856.719, Time=0.14 sec\n",
      " ARIMA(1,1,3)(0,0,0)[0]             : AIC=857.919, Time=0.14 sec\n",
      " ARIMA(0,1,3)(0,0,0)[0]             : AIC=860.266, Time=0.08 sec\n",
      " ARIMA(2,1,1)(0,0,0)[0]             : AIC=854.927, Time=0.11 sec\n",
      " ARIMA(2,1,0)(0,0,0)[0]             : AIC=862.177, Time=0.06 sec\n",
      " ARIMA(3,1,1)(0,0,0)[0]             : AIC=856.863, Time=0.26 sec\n",
      " ARIMA(1,1,0)(0,0,0)[0]             : AIC=865.780, Time=0.05 sec\n",
      " ARIMA(3,1,0)(0,0,0)[0]             : AIC=863.231, Time=0.08 sec\n",
      " ARIMA(3,1,2)(0,0,0)[0]             : AIC=854.341, Time=0.26 sec\n",
      " ARIMA(4,1,2)(0,0,0)[0]             : AIC=854.908, Time=0.29 sec\n",
      " ARIMA(3,1,3)(0,0,0)[0]             : AIC=inf, Time=0.52 sec\n",
      " ARIMA(2,1,3)(0,0,0)[0]             : AIC=857.582, Time=0.30 sec\n",
      " ARIMA(4,1,1)(0,0,0)[0]             : AIC=857.902, Time=0.13 sec\n",
      " ARIMA(4,1,3)(0,0,0)[0]             : AIC=inf, Time=0.56 sec\n",
      " ARIMA(3,1,2)(0,0,0)[0] intercept   : AIC=inf, Time=0.38 sec\n",
      "\n",
      "Best model:  ARIMA(3,1,2)(0,0,0)[0]          \n",
      "Total fit time: 8.966 seconds\n"
     ]
    },
    {
     "data": {
      "text/html": [
       "<table class=\"simpletable\">\n",
       "<caption>SARIMAX Results</caption>\n",
       "<tr>\n",
       "  <th>Dep. Variable:</th>           <td>y</td>        <th>  No. Observations:  </th>    <td>96</td>   \n",
       "</tr>\n",
       "<tr>\n",
       "  <th>Model:</th>           <td>SARIMAX(3, 1, 2)</td> <th>  Log Likelihood     </th> <td>-421.170</td>\n",
       "</tr>\n",
       "<tr>\n",
       "  <th>Date:</th>            <td>Mon, 18 Oct 2021</td> <th>  AIC                </th>  <td>854.341</td>\n",
       "</tr>\n",
       "<tr>\n",
       "  <th>Time:</th>                <td>13:11:24</td>     <th>  BIC                </th>  <td>869.664</td>\n",
       "</tr>\n",
       "<tr>\n",
       "  <th>Sample:</th>                  <td>0</td>        <th>  HQIC               </th>  <td>860.533</td>\n",
       "</tr>\n",
       "<tr>\n",
       "  <th></th>                       <td> - 96</td>      <th>                     </th>     <td> </td>   \n",
       "</tr>\n",
       "<tr>\n",
       "  <th>Covariance Type:</th>        <td>opg</td>       <th>                     </th>     <td> </td>   \n",
       "</tr>\n",
       "</table>\n",
       "<table class=\"simpletable\">\n",
       "<tr>\n",
       "     <td></td>       <th>coef</th>     <th>std err</th>      <th>z</th>      <th>P>|z|</th>  <th>[0.025</th>    <th>0.975]</th>  \n",
       "</tr>\n",
       "<tr>\n",
       "  <th>ar.L1</th>  <td>    0.1526</td> <td>    0.142</td> <td>    1.071</td> <td> 0.284</td> <td>   -0.127</td> <td>    0.432</td>\n",
       "</tr>\n",
       "<tr>\n",
       "  <th>ar.L2</th>  <td>    0.4062</td> <td>    0.144</td> <td>    2.815</td> <td> 0.005</td> <td>    0.123</td> <td>    0.689</td>\n",
       "</tr>\n",
       "<tr>\n",
       "  <th>ar.L3</th>  <td>   -0.3167</td> <td>    0.121</td> <td>   -2.619</td> <td> 0.009</td> <td>   -0.554</td> <td>   -0.080</td>\n",
       "</tr>\n",
       "<tr>\n",
       "  <th>ma.L1</th>  <td>    0.1470</td> <td>    0.121</td> <td>    1.215</td> <td> 0.224</td> <td>   -0.090</td> <td>    0.384</td>\n",
       "</tr>\n",
       "<tr>\n",
       "  <th>ma.L2</th>  <td>   -0.7809</td> <td>    0.116</td> <td>   -6.734</td> <td> 0.000</td> <td>   -1.008</td> <td>   -0.554</td>\n",
       "</tr>\n",
       "<tr>\n",
       "  <th>sigma2</th> <td>  409.9286</td> <td>   75.390</td> <td>    5.437</td> <td> 0.000</td> <td>  262.167</td> <td>  557.690</td>\n",
       "</tr>\n",
       "</table>\n",
       "<table class=\"simpletable\">\n",
       "<tr>\n",
       "  <th>Ljung-Box (L1) (Q):</th>     <td>0.68</td> <th>  Jarque-Bera (JB):  </th> <td>3.94</td>\n",
       "</tr>\n",
       "<tr>\n",
       "  <th>Prob(Q):</th>                <td>0.41</td> <th>  Prob(JB):          </th> <td>0.14</td>\n",
       "</tr>\n",
       "<tr>\n",
       "  <th>Heteroskedasticity (H):</th> <td>3.63</td> <th>  Skew:              </th> <td>0.36</td>\n",
       "</tr>\n",
       "<tr>\n",
       "  <th>Prob(H) (two-sided):</th>    <td>0.00</td> <th>  Kurtosis:          </th> <td>2.31</td>\n",
       "</tr>\n",
       "</table><br/><br/>Warnings:<br/>[1] Covariance matrix calculated using the outer product of gradients (complex-step)."
      ],
      "text/plain": [
       "<class 'statsmodels.iolib.summary.Summary'>\n",
       "\"\"\"\n",
       "                               SARIMAX Results                                \n",
       "==============================================================================\n",
       "Dep. Variable:                      y   No. Observations:                   96\n",
       "Model:               SARIMAX(3, 1, 2)   Log Likelihood                -421.170\n",
       "Date:                Mon, 18 Oct 2021   AIC                            854.341\n",
       "Time:                        13:11:24   BIC                            869.664\n",
       "Sample:                             0   HQIC                           860.533\n",
       "                                 - 96                                         \n",
       "Covariance Type:                  opg                                         \n",
       "==============================================================================\n",
       "                 coef    std err          z      P>|z|      [0.025      0.975]\n",
       "------------------------------------------------------------------------------\n",
       "ar.L1          0.1526      0.142      1.071      0.284      -0.127       0.432\n",
       "ar.L2          0.4062      0.144      2.815      0.005       0.123       0.689\n",
       "ar.L3         -0.3167      0.121     -2.619      0.009      -0.554      -0.080\n",
       "ma.L1          0.1470      0.121      1.215      0.224      -0.090       0.384\n",
       "ma.L2         -0.7809      0.116     -6.734      0.000      -1.008      -0.554\n",
       "sigma2       409.9286     75.390      5.437      0.000     262.167     557.690\n",
       "===================================================================================\n",
       "Ljung-Box (L1) (Q):                   0.68   Jarque-Bera (JB):                 3.94\n",
       "Prob(Q):                              0.41   Prob(JB):                         0.14\n",
       "Heteroskedasticity (H):               3.63   Skew:                             0.36\n",
       "Prob(H) (two-sided):                  0.00   Kurtosis:                         2.31\n",
       "===================================================================================\n",
       "\n",
       "Warnings:\n",
       "[1] Covariance matrix calculated using the outer product of gradients (complex-step).\n",
       "\"\"\""
      ]
     },
     "execution_count": 10,
     "metadata": {},
     "output_type": "execute_result"
    }
   ],
   "source": [
    "stepwise_fit=auto_arima(air[\"Passengers\"],trace=True,suppress_warnings=True)\n",
    "stepwise_fit.summary()"
   ]
  },
  {
   "cell_type": "code",
   "execution_count": 11,
   "id": "8bfc4e86",
   "metadata": {
    "ExecuteTime": {
     "end_time": "2021-10-18T07:41:56.134786Z",
     "start_time": "2021-10-18T07:41:56.125785Z"
    }
   },
   "outputs": [],
   "source": [
    "from statsmodels.tsa.arima_model import ARIMA"
   ]
  },
  {
   "cell_type": "code",
   "execution_count": 12,
   "id": "dbb9e348",
   "metadata": {
    "ExecuteTime": {
     "end_time": "2021-10-18T07:41:58.440918Z",
     "start_time": "2021-10-18T07:41:58.424917Z"
    }
   },
   "outputs": [
    {
     "name": "stdout",
     "output_type": "stream",
     "text": [
      "(96, 1)\n",
      "(66, 1) (30, 1)\n"
     ]
    }
   ],
   "source": [
    "print(air.shape)\n",
    "train=air.iloc[:-30]\n",
    "test=air.iloc[-30:]\n",
    "print(train.shape,test.shape)"
   ]
  },
  {
   "cell_type": "code",
   "execution_count": 19,
   "id": "b7c77886",
   "metadata": {
    "ExecuteTime": {
     "end_time": "2021-10-18T07:43:03.877660Z",
     "start_time": "2021-10-18T07:43:03.125617Z"
    }
   },
   "outputs": [
    {
     "data": {
      "text/html": [
       "<table class=\"simpletable\">\n",
       "<caption>ARIMA Model Results</caption>\n",
       "<tr>\n",
       "  <th>Dep. Variable:</th>   <td>D.Passengers</td>   <th>  No. Observations:  </th>    <td>65</td>   \n",
       "</tr>\n",
       "<tr>\n",
       "  <th>Model:</th>          <td>ARIMA(4, 1, 2)</td>  <th>  Log Likelihood     </th> <td>-272.305</td>\n",
       "</tr>\n",
       "<tr>\n",
       "  <th>Method:</th>             <td>css-mle</td>     <th>  S.D. of innovations</th>  <td>15.378</td> \n",
       "</tr>\n",
       "<tr>\n",
       "  <th>Date:</th>          <td>Mon, 18 Oct 2021</td> <th>  AIC                </th>  <td>560.611</td>\n",
       "</tr>\n",
       "<tr>\n",
       "  <th>Time:</th>              <td>13:13:03</td>     <th>  BIC                </th>  <td>578.006</td>\n",
       "</tr>\n",
       "<tr>\n",
       "  <th>Sample:</th>           <td>02-01-1995</td>    <th>  HQIC               </th>  <td>567.474</td>\n",
       "</tr>\n",
       "<tr>\n",
       "  <th></th>                 <td>- 06-01-2000</td>   <th>                     </th>     <td> </td>   \n",
       "</tr>\n",
       "</table>\n",
       "<table class=\"simpletable\">\n",
       "<tr>\n",
       "           <td></td>             <th>coef</th>     <th>std err</th>      <th>z</th>      <th>P>|z|</th>  <th>[0.025</th>    <th>0.975]</th>  \n",
       "</tr>\n",
       "<tr>\n",
       "  <th>const</th>              <td>    2.3204</td> <td>    1.709</td> <td>    1.357</td> <td> 0.175</td> <td>   -1.030</td> <td>    5.671</td>\n",
       "</tr>\n",
       "<tr>\n",
       "  <th>ar.L1.D.Passengers</th> <td>    0.7696</td> <td>    0.152</td> <td>    5.068</td> <td> 0.000</td> <td>    0.472</td> <td>    1.067</td>\n",
       "</tr>\n",
       "<tr>\n",
       "  <th>ar.L2.D.Passengers</th> <td>   -0.9736</td> <td>    0.157</td> <td>   -6.209</td> <td> 0.000</td> <td>   -1.281</td> <td>   -0.666</td>\n",
       "</tr>\n",
       "<tr>\n",
       "  <th>ar.L3.D.Passengers</th> <td>    0.0194</td> <td>    0.164</td> <td>    0.118</td> <td> 0.906</td> <td>   -0.301</td> <td>    0.340</td>\n",
       "</tr>\n",
       "<tr>\n",
       "  <th>ar.L4.D.Passengers</th> <td>   -0.1749</td> <td>    0.150</td> <td>   -1.167</td> <td> 0.243</td> <td>   -0.469</td> <td>    0.119</td>\n",
       "</tr>\n",
       "<tr>\n",
       "  <th>ma.L1.D.Passengers</th> <td>   -0.7893</td> <td>    0.101</td> <td>   -7.789</td> <td> 0.000</td> <td>   -0.988</td> <td>   -0.591</td>\n",
       "</tr>\n",
       "<tr>\n",
       "  <th>ma.L2.D.Passengers</th> <td>    1.0000</td> <td>    0.062</td> <td>   16.207</td> <td> 0.000</td> <td>    0.879</td> <td>    1.121</td>\n",
       "</tr>\n",
       "</table>\n",
       "<table class=\"simpletable\">\n",
       "<caption>Roots</caption>\n",
       "<tr>\n",
       "    <td></td>   <th>            Real</th>  <th>         Imaginary</th> <th>         Modulus</th>  <th>        Frequency</th>\n",
       "</tr>\n",
       "<tr>\n",
       "  <th>AR.1</th> <td>           0.4962</td> <td>          -0.9038j</td> <td>           1.0310</td> <td>          -0.1701</td>\n",
       "</tr>\n",
       "<tr>\n",
       "  <th>AR.2</th> <td>           0.4962</td> <td>          +0.9038j</td> <td>           1.0310</td> <td>           0.1701</td>\n",
       "</tr>\n",
       "<tr>\n",
       "  <th>AR.3</th> <td>          -0.4408</td> <td>          -2.2772j</td> <td>           2.3195</td> <td>          -0.2804</td>\n",
       "</tr>\n",
       "<tr>\n",
       "  <th>AR.4</th> <td>          -0.4408</td> <td>          +2.2772j</td> <td>           2.3195</td> <td>           0.2804</td>\n",
       "</tr>\n",
       "<tr>\n",
       "  <th>MA.1</th> <td>           0.3947</td> <td>          -0.9188j</td> <td>           1.0000</td> <td>          -0.1854</td>\n",
       "</tr>\n",
       "<tr>\n",
       "  <th>MA.2</th> <td>           0.3947</td> <td>          +0.9188j</td> <td>           1.0000</td> <td>           0.1854</td>\n",
       "</tr>\n",
       "</table>"
      ],
      "text/plain": [
       "<class 'statsmodels.iolib.summary.Summary'>\n",
       "\"\"\"\n",
       "                             ARIMA Model Results                              \n",
       "==============================================================================\n",
       "Dep. Variable:           D.Passengers   No. Observations:                   65\n",
       "Model:                 ARIMA(4, 1, 2)   Log Likelihood                -272.305\n",
       "Method:                       css-mle   S.D. of innovations             15.378\n",
       "Date:                Mon, 18 Oct 2021   AIC                            560.611\n",
       "Time:                        13:13:03   BIC                            578.006\n",
       "Sample:                    02-01-1995   HQIC                           567.474\n",
       "                         - 06-01-2000                                         \n",
       "======================================================================================\n",
       "                         coef    std err          z      P>|z|      [0.025      0.975]\n",
       "--------------------------------------------------------------------------------------\n",
       "const                  2.3204      1.709      1.357      0.175      -1.030       5.671\n",
       "ar.L1.D.Passengers     0.7696      0.152      5.068      0.000       0.472       1.067\n",
       "ar.L2.D.Passengers    -0.9736      0.157     -6.209      0.000      -1.281      -0.666\n",
       "ar.L3.D.Passengers     0.0194      0.164      0.118      0.906      -0.301       0.340\n",
       "ar.L4.D.Passengers    -0.1749      0.150     -1.167      0.243      -0.469       0.119\n",
       "ma.L1.D.Passengers    -0.7893      0.101     -7.789      0.000      -0.988      -0.591\n",
       "ma.L2.D.Passengers     1.0000      0.062     16.207      0.000       0.879       1.121\n",
       "                                    Roots                                    \n",
       "=============================================================================\n",
       "                  Real          Imaginary           Modulus         Frequency\n",
       "-----------------------------------------------------------------------------\n",
       "AR.1            0.4962           -0.9038j            1.0310           -0.1701\n",
       "AR.2            0.4962           +0.9038j            1.0310            0.1701\n",
       "AR.3           -0.4408           -2.2772j            2.3195           -0.2804\n",
       "AR.4           -0.4408           +2.2772j            2.3195            0.2804\n",
       "MA.1            0.3947           -0.9188j            1.0000           -0.1854\n",
       "MA.2            0.3947           +0.9188j            1.0000            0.1854\n",
       "-----------------------------------------------------------------------------\n",
       "\"\"\""
      ]
     },
     "execution_count": 19,
     "metadata": {},
     "output_type": "execute_result"
    }
   ],
   "source": [
    "model=ARIMA(train[\"Passengers\"],order=(4,1,2))\n",
    "model=model.fit()\n",
    "model.summary()"
   ]
  },
  {
   "cell_type": "code",
   "execution_count": 20,
   "id": "2e60433e",
   "metadata": {
    "ExecuteTime": {
     "end_time": "2021-10-18T07:43:09.988010Z",
     "start_time": "2021-10-18T07:43:09.940007Z"
    }
   },
   "outputs": [
    {
     "name": "stdout",
     "output_type": "stream",
     "text": [
      "2000-07-01    270.024552\n",
      "2000-08-01    272.549177\n",
      "2000-09-01    271.137891\n",
      "2000-10-01    265.619142\n",
      "2000-11-01    264.895715\n",
      "2000-12-01    272.397769\n",
      "2001-01-01    282.170311\n",
      "2001-02-01    286.492908\n",
      "2001-03-01    283.731248\n",
      "2001-04-01    279.429146\n",
      "2001-05-01    280.336276\n",
      "2001-06-01    287.568184\n",
      "2001-07-01    295.804956\n",
      "2001-08-01    299.027430\n",
      "2001-09-01    296.623981\n",
      "2001-10-01    293.686169\n",
      "2001-11-01    295.541777\n",
      "2001-12-01    302.374671\n",
      "2002-01-01    309.344678\n",
      "2002-02-01    311.760503\n",
      "2002-03-01    309.796001\n",
      "2002-04-01    308.026623\n",
      "2002-05-01    310.560014\n",
      "2002-06-01    316.926493\n",
      "2002-07-01    322.823504\n",
      "2002-08-01    324.676442\n",
      "2002-09-01    323.195862\n",
      "2002-10-01    322.407741\n",
      "2002-11-01    325.401907\n",
      "2002-12-01    331.275441\n",
      "Freq: MS, dtype: float64\n"
     ]
    }
   ],
   "source": [
    "start=len(train)\n",
    "end=len(train)+len(test)-1\n",
    "pred=model.predict(start=start,end=end,typ=\"levels\")\n",
    "print(pred)"
   ]
  },
  {
   "cell_type": "code",
   "execution_count": 21,
   "id": "45db7f29",
   "metadata": {
    "ExecuteTime": {
     "end_time": "2021-10-18T07:43:15.871346Z",
     "start_time": "2021-10-18T07:43:15.223309Z"
    }
   },
   "outputs": [
    {
     "data": {
      "text/plain": [
       "<AxesSubplot:xlabel='Month'>"
      ]
     },
     "execution_count": 21,
     "metadata": {},
     "output_type": "execute_result"
    },
    {
     "data": {
      "image/png": "[encoded data removed]",
      "text/plain": [
       "<Figure size 432x288 with 1 Axes>"
      ]
     },
     "metadata": {
      "needs_background": "light"
     },
     "output_type": "display_data"
    }
   ],
   "source": [
    "pred.plot(legend=True)\n",
    "test[\"Passengers\"].plot(legend=True)"
   ]
  },
  {
   "cell_type": "code",
   "execution_count": 16,
   "id": "d2f83c0c",
   "metadata": {
    "ExecuteTime": {
     "end_time": "2021-10-18T07:42:26.056497Z",
     "start_time": "2021-10-18T07:42:26.027495Z"
    }
   },
   "outputs": [
    {
     "data": {
      "text/plain": [
       "Passengers    295.4\n",
       "dtype: float64"
      ]
     },
     "execution_count": 16,
     "metadata": {},
     "output_type": "execute_result"
    }
   ],
   "source": [
    "test.mean()"
   ]
  },
  {
   "cell_type": "code",
   "execution_count": 17,
   "id": "a09c98bd",
   "metadata": {
    "ExecuteTime": {
     "end_time": "2021-10-18T07:42:28.973664Z",
     "start_time": "2021-10-18T07:42:28.952663Z"
    }
   },
   "outputs": [
    {
     "name": "stdout",
     "output_type": "stream",
     "text": [
      "47.95357769123716\n"
     ]
    }
   ],
   "source": [
    "from sklearn.metrics import mean_squared_error\n",
    "from math import sqrt\n",
    "rmse=sqrt(mean_squared_error(pred,test))\n",
    "print(rmse)"
   ]
  },
  {
   "cell_type": "code",
   "execution_count": 18,
   "id": "5eae8537",
   "metadata": {
    "ExecuteTime": {
     "end_time": "2021-10-18T07:42:33.729936Z",
     "start_time": "2021-10-18T07:42:33.285911Z"
    }
   },
   "outputs": [
    {
     "data": {
      "text/html": [
       "<div>\n",
       "<style scoped>\n",
       "    .dataframe tbody tr th:only-of-type {\n",
       "        vertical-align: middle;\n",
       "    }\n",
       "\n",
       "    .dataframe tbody tr th {\n",
       "        vertical-align: top;\n",
       "    }\n",
       "\n",
       "    .dataframe thead th {\n",
       "        text-align: right;\n",
       "    }\n",
       "</style>\n",
       "<table border=\"1\" class=\"dataframe\">\n",
       "  <thead>\n",
       "    <tr style=\"text-align: right;\">\n",
       "      <th></th>\n",
       "      <th>Passengers</th>\n",
       "    </tr>\n",
       "    <tr>\n",
       "      <th>Month</th>\n",
       "      <th></th>\n",
       "    </tr>\n",
       "  </thead>\n",
       "  <tbody>\n",
       "    <tr>\n",
       "      <th>2002-08-01</th>\n",
       "      <td>405</td>\n",
       "    </tr>\n",
       "    <tr>\n",
       "      <th>2002-09-01</th>\n",
       "      <td>355</td>\n",
       "    </tr>\n",
       "    <tr>\n",
       "      <th>2002-10-01</th>\n",
       "      <td>306</td>\n",
       "    </tr>\n",
       "    <tr>\n",
       "      <th>2002-11-01</th>\n",
       "      <td>271</td>\n",
       "    </tr>\n",
       "    <tr>\n",
       "      <th>2002-12-01</th>\n",
       "      <td>306</td>\n",
       "    </tr>\n",
       "  </tbody>\n",
       "</table>\n",
       "</div>"
      ],
      "text/plain": [
       "            Passengers\n",
       "Month                 \n",
       "2002-08-01         405\n",
       "2002-09-01         355\n",
       "2002-10-01         306\n",
       "2002-11-01         271\n",
       "2002-12-01         306"
      ]
     },
     "execution_count": 18,
     "metadata": {},
     "output_type": "execute_result"
    }
   ],
   "source": [
    "model2=ARIMA(air[\"Passengers\"],order=(3,1,2))\n",
    "model2=model2.fit()\n",
    "air.tail()"
   ]
  },
  {
   "cell_type": "code",
   "execution_count": 36,
   "id": "eab32ba7",
   "metadata": {
    "ExecuteTime": {
     "end_time": "2021-10-16T14:24:00.656263Z",
     "start_time": "2021-10-16T14:24:00.605260Z"
    }
   },
   "outputs": [
    {
     "name": "stdout",
     "output_type": "stream",
     "text": [
      "DatetimeIndex(['2002-12-01', '2002-12-02', '2002-12-03', '2002-12-04',\n",
      "               '2002-12-05', '2002-12-06', '2002-12-07', '2002-12-08',\n",
      "               '2002-12-09', '2002-12-10', '2002-12-11', '2002-12-12',\n",
      "               '2002-12-13', '2002-12-14', '2002-12-15', '2002-12-16',\n",
      "               '2002-12-17', '2002-12-18', '2002-12-19', '2002-12-20',\n",
      "               '2002-12-21', '2002-12-22', '2002-12-23', '2002-12-24',\n",
      "               '2002-12-25', '2002-12-26', '2002-12-27', '2002-12-28',\n",
      "               '2002-12-29', '2002-12-30', '2002-12-31'],\n",
      "              dtype='datetime64[ns]', freq='D')\n",
      "2002-12-01    336.124586\n",
      "2002-12-02    341.796031\n",
      "2002-12-03    344.706746\n",
      "2002-12-04    338.918221\n",
      "2002-12-05    338.960907\n",
      "2002-12-06    337.430897\n",
      "2002-12-07    340.997160\n",
      "2002-12-08    342.786756\n",
      "2002-12-09    346.879840\n",
      "2002-12-10    348.888613\n",
      "2002-12-11    352.086852\n",
      "2002-12-12    353.849212\n",
      "2002-12-13    356.566944\n",
      "2002-12-14    358.455984\n",
      "2002-12-15    361.085777\n",
      "2002-12-16    363.176944\n",
      "2002-12-17    365.762017\n",
      "2002-12-18    367.957781\n",
      "2002-12-19    370.472888\n",
      "2002-12-20    372.714483\n",
      "2002-12-21    375.172988\n",
      "2002-12-22    377.447603\n",
      "2002-12-23    379.873011\n",
      "2002-12-24    382.174874\n",
      "2002-12-25    384.580142\n",
      "2002-12-26    386.901018\n",
      "2002-12-27    389.291978\n",
      "2002-12-28    391.625059\n",
      "2002-12-29    394.005750\n",
      "2002-12-30    396.346955\n",
      "2002-12-31    398.720664\n",
      "Freq: D, Name: ARIMA Predictions, dtype: float64\n"
     ]
    }
   ],
   "source": [
    "index_future_dates=pd.date_range(start='2002-12-01',end='2002-12-31')\n",
    "print(index_future_dates)\n",
    "pred=model2.predict(start=len(air),end=len(air)+30,typ='levels').rename(\"ARIMA Predictions\")\n",
    "#print(comp_pred)\n",
    "pred.index=index_future_dates\n",
    "print(pred)"
   ]
  },
  {
   "cell_type": "code",
   "execution_count": 38,
   "id": "d29c3c0a",
   "metadata": {
    "ExecuteTime": {
     "end_time": "2021-10-16T14:24:58.701583Z",
     "start_time": "2021-10-16T14:24:58.096548Z"
    }
   },
   "outputs": [
    {
     "data": {
      "text/plain": [
       "<AxesSubplot:>"
      ]
     },
     "execution_count": 38,
     "metadata": {},
     "output_type": "execute_result"
    },
    {
     "data": {
      "image/png": "[encoded data removed]",
      "text/plain": [
       "<Figure size 864x360 with 1 Axes>"
      ]
     },
     "metadata": {
      "needs_background": "light"
     },
     "output_type": "display_data"
    }
   ],
   "source": [
    "pred.plot(figsize=(12,5),legend=True)"
   ]
  }
 ],
 "metadata": {
  "kernelspec": {
   "display_name": "Python 3",
   "language": "python",
   "name": "python3"
  },
  "language_info": {
   "codemirror_mode": {
    "name": "ipython",
    "version": 3
   },
   "file_extension": ".py",
   "mimetype": "text/x-python",
   "name": "python",
   "nbconvert_exporter": "python",
   "pygments_lexer": "ipython3",
   "version": "3.8.8"
  },
  "varInspector": {
   "cols": {
    "lenName": 16,
    "lenType": 16,
    "lenVar": 40
   },
   "kernels_config": {
    "python": {
     "delete_cmd_postfix": "",
     "delete_cmd_prefix": "del ",
     "library": "var_list.py",
     "varRefreshCmd": "print(var_dic_list())"
    },
    "r": {
     "delete_cmd_postfix": ") ",
     "delete_cmd_prefix": "rm(",
     "library": "var_list.r",
     "varRefreshCmd": "cat(var_dic_list()) "
    }
   },
   "types_to_exclude": [
    "module",
    "function",
    "builtin_function_or_method",
    "instance",
    "_Feature"
   ],
   "window_display": false
  }
 },
 "nbformat": 4,
 "nbformat_minor": 5
}
